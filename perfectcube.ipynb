{
  "nbformat": 4,
  "nbformat_minor": 0,
  "metadata": {
    "colab": {
      "name": "Untitled117.ipynb",
      "private_outputs": true,
      "provenance": []
    },
    "kernelspec": {
      "name": "python3",
      "display_name": "Python 3"
    },
    "language_info": {
      "name": "python"
    }
  },
  "cells": [
    {
      "cell_type": "code",
      "execution_count": null,
      "metadata": {
        "id": "U3iDqof_D_Ln"
      },
      "outputs": [],
      "source": [
        "def is_perfect_cube(x):\n",
        "    x = abs(x)\n",
        "    return int(round(x ** (1. / 3))) ** 3 == x\n",
        "\n",
        "print(is_perfect_cube(63))\n",
        "print(is_perfect_cube(64))\n",
        "print(is_perfect_cube(65))\n",
        "print(is_perfect_cube(-63))\n",
        "print(is_perfect_cube(-64))\n",
        "print(is_perfect_cube(-65))\n",
        "print(is_perfect_cube(2146689000)) # no other currently posted solution\n",
        "                                   # handles this correctly"
      ]
    }
  ]
}